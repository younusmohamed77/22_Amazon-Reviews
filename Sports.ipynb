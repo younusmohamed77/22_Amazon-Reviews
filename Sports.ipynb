{
 "cells": [
  {
   "cell_type": "code",
   "execution_count": 16,
   "id": "488c3678-d3f3-46c6-95ab-af56a497c714",
   "metadata": {},
   "outputs": [
    {
     "name": "stdout",
     "output_type": "stream",
     "text": [
      "Num GPUs Available:  1\n"
     ]
    }
   ],
   "source": [
    "import tensorflow as tf\n",
    "\n",
    "# Test to see if TensorFlow can utilize the GPU\n",
    "print(\"Num GPUs Available: \", len(tf.config.list_physical_devices('GPU')))"
   ]
  },
  {
   "cell_type": "code",
   "execution_count": 1,
   "id": "01b372d1-5eff-4971-a403-7c16c282b158",
   "metadata": {},
   "outputs": [],
   "source": [
    "import gensim\n",
    "import numpy as np\n",
    "import pandas as pd"
   ]
  },
  {
   "cell_type": "code",
   "execution_count": 7,
   "id": "db229974-6856-40b9-b4ea-1c27c8670df9",
   "metadata": {},
   "outputs": [],
   "source": [
    "df = pd.read_json(r\"Sports_and_Outdoors_5.json\", lines = True)\n",
    "\n",
    "# We give lines = True to avoid trailback error"
   ]
  },
  {
   "cell_type": "code",
   "execution_count": 8,
   "id": "3135e5ab-8df7-4e32-b29b-161c54e1c7c8",
   "metadata": {},
   "outputs": [
    {
     "data": {
      "text/html": [
       "<div>\n",
       "<style scoped>\n",
       "    .dataframe tbody tr th:only-of-type {\n",
       "        vertical-align: middle;\n",
       "    }\n",
       "\n",
       "    .dataframe tbody tr th {\n",
       "        vertical-align: top;\n",
       "    }\n",
       "\n",
       "    .dataframe thead th {\n",
       "        text-align: right;\n",
       "    }\n",
       "</style>\n",
       "<table border=\"1\" class=\"dataframe\">\n",
       "  <thead>\n",
       "    <tr style=\"text-align: right;\">\n",
       "      <th></th>\n",
       "      <th>reviewerID</th>\n",
       "      <th>asin</th>\n",
       "      <th>reviewerName</th>\n",
       "      <th>helpful</th>\n",
       "      <th>reviewText</th>\n",
       "      <th>overall</th>\n",
       "      <th>summary</th>\n",
       "      <th>unixReviewTime</th>\n",
       "      <th>reviewTime</th>\n",
       "    </tr>\n",
       "  </thead>\n",
       "  <tbody>\n",
       "    <tr>\n",
       "      <th>0</th>\n",
       "      <td>AIXZKN4ACSKI</td>\n",
       "      <td>1881509818</td>\n",
       "      <td>David Briner</td>\n",
       "      <td>[0, 0]</td>\n",
       "      <td>This came in on time and I am veru happy with ...</td>\n",
       "      <td>5</td>\n",
       "      <td>Woks very good</td>\n",
       "      <td>1390694400</td>\n",
       "      <td>01 26, 2014</td>\n",
       "    </tr>\n",
       "    <tr>\n",
       "      <th>1</th>\n",
       "      <td>A1L5P841VIO02V</td>\n",
       "      <td>1881509818</td>\n",
       "      <td>Jason A. Kramer</td>\n",
       "      <td>[1, 1]</td>\n",
       "      <td>I had a factory Glock tool that I was using fo...</td>\n",
       "      <td>5</td>\n",
       "      <td>Works as well as the factory tool</td>\n",
       "      <td>1328140800</td>\n",
       "      <td>02 2, 2012</td>\n",
       "    </tr>\n",
       "    <tr>\n",
       "      <th>2</th>\n",
       "      <td>AB2W04NI4OEAD</td>\n",
       "      <td>1881509818</td>\n",
       "      <td>J. Fernald</td>\n",
       "      <td>[2, 2]</td>\n",
       "      <td>If you don't have a 3/32 punch or would like t...</td>\n",
       "      <td>4</td>\n",
       "      <td>It's a punch, that's all.</td>\n",
       "      <td>1330387200</td>\n",
       "      <td>02 28, 2012</td>\n",
       "    </tr>\n",
       "    <tr>\n",
       "      <th>3</th>\n",
       "      <td>A148SVSWKTJKU6</td>\n",
       "      <td>1881509818</td>\n",
       "      <td>Jusitn A. Watts \"Maverick9614\"</td>\n",
       "      <td>[0, 0]</td>\n",
       "      <td>This works no better than any 3/32 punch you w...</td>\n",
       "      <td>4</td>\n",
       "      <td>It's a punch with a Glock logo.</td>\n",
       "      <td>1328400000</td>\n",
       "      <td>02 5, 2012</td>\n",
       "    </tr>\n",
       "    <tr>\n",
       "      <th>4</th>\n",
       "      <td>AAAWJ6LW9WMOO</td>\n",
       "      <td>1881509818</td>\n",
       "      <td>Material Man</td>\n",
       "      <td>[0, 0]</td>\n",
       "      <td>I purchased this thinking maybe I need a speci...</td>\n",
       "      <td>4</td>\n",
       "      <td>Ok,tool does what a regular punch does.</td>\n",
       "      <td>1366675200</td>\n",
       "      <td>04 23, 2013</td>\n",
       "    </tr>\n",
       "  </tbody>\n",
       "</table>\n",
       "</div>"
      ],
      "text/plain": [
       "       reviewerID        asin                    reviewerName helpful  \\\n",
       "0    AIXZKN4ACSKI  1881509818                    David Briner  [0, 0]   \n",
       "1  A1L5P841VIO02V  1881509818                 Jason A. Kramer  [1, 1]   \n",
       "2   AB2W04NI4OEAD  1881509818                      J. Fernald  [2, 2]   \n",
       "3  A148SVSWKTJKU6  1881509818  Jusitn A. Watts \"Maverick9614\"  [0, 0]   \n",
       "4   AAAWJ6LW9WMOO  1881509818                    Material Man  [0, 0]   \n",
       "\n",
       "                                          reviewText  overall  \\\n",
       "0  This came in on time and I am veru happy with ...        5   \n",
       "1  I had a factory Glock tool that I was using fo...        5   \n",
       "2  If you don't have a 3/32 punch or would like t...        4   \n",
       "3  This works no better than any 3/32 punch you w...        4   \n",
       "4  I purchased this thinking maybe I need a speci...        4   \n",
       "\n",
       "                                   summary  unixReviewTime   reviewTime  \n",
       "0                           Woks very good      1390694400  01 26, 2014  \n",
       "1        Works as well as the factory tool      1328140800   02 2, 2012  \n",
       "2                It's a punch, that's all.      1330387200  02 28, 2012  \n",
       "3          It's a punch with a Glock logo.      1328400000   02 5, 2012  \n",
       "4  Ok,tool does what a regular punch does.      1366675200  04 23, 2013  "
      ]
     },
     "execution_count": 8,
     "metadata": {},
     "output_type": "execute_result"
    }
   ],
   "source": [
    "df.head()"
   ]
  },
  {
   "cell_type": "code",
   "execution_count": 9,
   "id": "4ed8a55f-3e50-4d5d-a750-d5e67ccb8dd7",
   "metadata": {},
   "outputs": [
    {
     "data": {
      "text/plain": [
       "(296337, 9)"
      ]
     },
     "execution_count": 9,
     "metadata": {},
     "output_type": "execute_result"
    }
   ],
   "source": [
    "df.shape"
   ]
  },
  {
   "cell_type": "code",
   "execution_count": 10,
   "id": "01e669fd-8a52-42ec-bff7-123ac3fa2fbc",
   "metadata": {},
   "outputs": [
    {
     "data": {
      "text/plain": [
       "0         [this, came, in, on, time, and, am, veru, happ...\n",
       "1         [had, factory, glock, tool, that, was, using, ...\n",
       "2         [if, you, don, have, punch, or, would, like, t...\n",
       "3         [this, works, no, better, than, any, punch, yo...\n",
       "4         [purchased, this, thinking, maybe, need, speci...\n",
       "                                ...                        \n",
       "296332    [this, is, water, bottle, done, right, it, is,...\n",
       "296333    [if, you, re, looking, for, an, insulated, wat...\n",
       "296334    [this, hydracentials, sporty, oz, double, insu...\n",
       "296335    [as, usual, received, this, item, free, in, ex...\n",
       "296336    [hydracentials, insulated, oz, water, bottle, ...\n",
       "Name: reviewText, Length: 296337, dtype: object"
      ]
     },
     "execution_count": 10,
     "metadata": {},
     "output_type": "execute_result"
    }
   ],
   "source": [
    "review_text = df.reviewText.apply(gensim.utils.simple_preprocess)\n",
    "review_text\n",
    "\n",
    "# Do not do this automatic approach for data preprocessing"
   ]
  },
  {
   "cell_type": "code",
   "execution_count": 11,
   "id": "1f5acddd-1b2e-4d56-aede-9a7697e0339f",
   "metadata": {},
   "outputs": [
    {
     "data": {
      "text/plain": [
       "['this',\n",
       " 'came',\n",
       " 'in',\n",
       " 'on',\n",
       " 'time',\n",
       " 'and',\n",
       " 'am',\n",
       " 'veru',\n",
       " 'happy',\n",
       " 'with',\n",
       " 'it',\n",
       " 'haved',\n",
       " 'used',\n",
       " 'it',\n",
       " 'already',\n",
       " 'and',\n",
       " 'it',\n",
       " 'makes',\n",
       " 'taking',\n",
       " 'out',\n",
       " 'the',\n",
       " 'pins',\n",
       " 'in',\n",
       " 'my',\n",
       " 'glock',\n",
       " 'very',\n",
       " 'easy']"
      ]
     },
     "execution_count": 11,
     "metadata": {},
     "output_type": "execute_result"
    }
   ],
   "source": [
    "review_text.loc[0]"
   ]
  },
  {
   "cell_type": "markdown",
   "id": "cd07f32a-9958-440f-934f-a90a352812ac",
   "metadata": {},
   "source": [
    "## Building word2vec model"
   ]
  },
  {
   "cell_type": "code",
   "execution_count": 12,
   "id": "d3f70d7a-6915-4a7a-81bb-bbfb806e9947",
   "metadata": {},
   "outputs": [
    {
     "ename": "RuntimeError",
     "evalue": "you must first build vocabulary before training the model",
     "output_type": "error",
     "traceback": [
      "\u001b[1;31m---------------------------------------------------------------------------\u001b[0m",
      "\u001b[1;31mRuntimeError\u001b[0m                              Traceback (most recent call last)",
      "Cell \u001b[1;32mIn[12], line 6\u001b[0m\n\u001b[0;32m      1\u001b[0m model \u001b[38;5;241m=\u001b[39m gensim\u001b[38;5;241m.\u001b[39mmodels\u001b[38;5;241m.\u001b[39mWord2Vec(vector_size \u001b[38;5;241m=\u001b[39m \u001b[38;5;241m100\u001b[39m, window \u001b[38;5;241m=\u001b[39m \u001b[38;5;241m5\u001b[39m, min_count \u001b[38;5;241m=\u001b[39m \u001b[38;5;241m2\u001b[39m)\n\u001b[0;32m      3\u001b[0m \u001b[38;5;66;03m# Window size is the number of words taken per cycle\u001b[39;00m\n\u001b[0;32m      4\u001b[0m \u001b[38;5;66;03m# min_count =  means atleast one focus and one context word needed\u001b[39;00m\n\u001b[1;32m----> 6\u001b[0m \u001b[43mmodel\u001b[49m\u001b[38;5;241;43m.\u001b[39;49m\u001b[43mtrain\u001b[49m\u001b[43m(\u001b[49m\u001b[43mreview_text\u001b[49m\u001b[43m,\u001b[49m\u001b[43m \u001b[49m\u001b[43mtotal_examples\u001b[49m\u001b[43m \u001b[49m\u001b[38;5;241;43m=\u001b[39;49m\u001b[43m \u001b[49m\u001b[43mmodel\u001b[49m\u001b[38;5;241;43m.\u001b[39;49m\u001b[43mcorpus_count\u001b[49m\u001b[43m,\u001b[49m\u001b[43m \u001b[49m\u001b[43mepochs\u001b[49m\u001b[43m \u001b[49m\u001b[38;5;241;43m=\u001b[39;49m\u001b[43m \u001b[49m\u001b[43mmodel\u001b[49m\u001b[38;5;241;43m.\u001b[39;49m\u001b[43mepochs\u001b[49m\u001b[43m)\u001b[49m\n",
      "File \u001b[1;32m~\\anaconda3\\envs\\gpu_env2\\lib\\site-packages\\gensim\\models\\word2vec.py:1045\u001b[0m, in \u001b[0;36mWord2Vec.train\u001b[1;34m(self, corpus_iterable, corpus_file, total_examples, total_words, epochs, start_alpha, end_alpha, word_count, queue_factor, report_delay, compute_loss, callbacks, **kwargs)\u001b[0m\n\u001b[0;32m   1042\u001b[0m \u001b[38;5;28mself\u001b[39m\u001b[38;5;241m.\u001b[39mmin_alpha \u001b[38;5;241m=\u001b[39m end_alpha \u001b[38;5;129;01mor\u001b[39;00m \u001b[38;5;28mself\u001b[39m\u001b[38;5;241m.\u001b[39mmin_alpha\n\u001b[0;32m   1043\u001b[0m \u001b[38;5;28mself\u001b[39m\u001b[38;5;241m.\u001b[39mepochs \u001b[38;5;241m=\u001b[39m epochs\n\u001b[1;32m-> 1045\u001b[0m \u001b[38;5;28;43mself\u001b[39;49m\u001b[38;5;241;43m.\u001b[39;49m\u001b[43m_check_training_sanity\u001b[49m\u001b[43m(\u001b[49m\u001b[43mepochs\u001b[49m\u001b[38;5;241;43m=\u001b[39;49m\u001b[43mepochs\u001b[49m\u001b[43m,\u001b[49m\u001b[43m \u001b[49m\u001b[43mtotal_examples\u001b[49m\u001b[38;5;241;43m=\u001b[39;49m\u001b[43mtotal_examples\u001b[49m\u001b[43m,\u001b[49m\u001b[43m \u001b[49m\u001b[43mtotal_words\u001b[49m\u001b[38;5;241;43m=\u001b[39;49m\u001b[43mtotal_words\u001b[49m\u001b[43m)\u001b[49m\n\u001b[0;32m   1046\u001b[0m \u001b[38;5;28mself\u001b[39m\u001b[38;5;241m.\u001b[39m_check_corpus_sanity(corpus_iterable\u001b[38;5;241m=\u001b[39mcorpus_iterable, corpus_file\u001b[38;5;241m=\u001b[39mcorpus_file, passes\u001b[38;5;241m=\u001b[39mepochs)\n\u001b[0;32m   1048\u001b[0m \u001b[38;5;28mself\u001b[39m\u001b[38;5;241m.\u001b[39madd_lifecycle_event(\n\u001b[0;32m   1049\u001b[0m     \u001b[38;5;124m\"\u001b[39m\u001b[38;5;124mtrain\u001b[39m\u001b[38;5;124m\"\u001b[39m,\n\u001b[0;32m   1050\u001b[0m     msg\u001b[38;5;241m=\u001b[39m(\n\u001b[1;32m   (...)\u001b[0m\n\u001b[0;32m   1054\u001b[0m     ),\n\u001b[0;32m   1055\u001b[0m )\n",
      "File \u001b[1;32m~\\anaconda3\\envs\\gpu_env2\\lib\\site-packages\\gensim\\models\\word2vec.py:1554\u001b[0m, in \u001b[0;36mWord2Vec._check_training_sanity\u001b[1;34m(self, epochs, total_examples, total_words, **kwargs)\u001b[0m\n\u001b[0;32m   1551\u001b[0m     logger\u001b[38;5;241m.\u001b[39mwarning(\u001b[38;5;124m\"\u001b[39m\u001b[38;5;124mEffective \u001b[39m\u001b[38;5;124m'\u001b[39m\u001b[38;5;124malpha\u001b[39m\u001b[38;5;124m'\u001b[39m\u001b[38;5;124m higher than previous training cycles\u001b[39m\u001b[38;5;124m\"\u001b[39m)\n\u001b[0;32m   1553\u001b[0m \u001b[38;5;28;01mif\u001b[39;00m \u001b[38;5;129;01mnot\u001b[39;00m \u001b[38;5;28mself\u001b[39m\u001b[38;5;241m.\u001b[39mwv\u001b[38;5;241m.\u001b[39mkey_to_index:  \u001b[38;5;66;03m# should be set by `build_vocab`\u001b[39;00m\n\u001b[1;32m-> 1554\u001b[0m     \u001b[38;5;28;01mraise\u001b[39;00m \u001b[38;5;167;01mRuntimeError\u001b[39;00m(\u001b[38;5;124m\"\u001b[39m\u001b[38;5;124myou must first build vocabulary before training the model\u001b[39m\u001b[38;5;124m\"\u001b[39m)\n\u001b[0;32m   1555\u001b[0m \u001b[38;5;28;01mif\u001b[39;00m \u001b[38;5;129;01mnot\u001b[39;00m \u001b[38;5;28mlen\u001b[39m(\u001b[38;5;28mself\u001b[39m\u001b[38;5;241m.\u001b[39mwv\u001b[38;5;241m.\u001b[39mvectors):\n\u001b[0;32m   1556\u001b[0m     \u001b[38;5;28;01mraise\u001b[39;00m \u001b[38;5;167;01mRuntimeError\u001b[39;00m(\u001b[38;5;124m\"\u001b[39m\u001b[38;5;124myou must initialize vectors before training the model\u001b[39m\u001b[38;5;124m\"\u001b[39m)\n",
      "\u001b[1;31mRuntimeError\u001b[0m: you must first build vocabulary before training the model"
     ]
    }
   ],
   "source": [
    "model = gensim.models.Word2Vec(vector_size = 100, window = 5, min_count = 2)\n",
    "\n",
    "# Window size is the number of words taken per cycle\n",
    "# min_count =  means atleast one focus and one context word needed\n",
    "\n",
    "model.train(review_text, total_examples = model.corpus_count, epochs = model.epochs)"
   ]
  },
  {
   "cell_type": "code",
   "execution_count": 13,
   "id": "4c9ab6fa-f7ca-4201-9e70-8eee31f3a657",
   "metadata": {},
   "outputs": [],
   "source": [
    "model = gensim.models.Word2Vec(vector_size = 100, window = 5, min_count = 2)\n",
    "\n",
    "# Window size is the number of words taken per cycle\n",
    "# min_count =  means atleast one focus and one context word needed"
   ]
  },
  {
   "cell_type": "code",
   "execution_count": 14,
   "id": "9bc2b021-ce84-4142-bdd0-90b5eec49a05",
   "metadata": {},
   "outputs": [],
   "source": [
    "model.build_vocab(review_text, progress_per = 1000)\n",
    "\n",
    "# Progress per iteration is indicating how many words to update per cycle"
   ]
  },
  {
   "cell_type": "code",
   "execution_count": 15,
   "id": "5ad52306-736b-4daf-adc5-d9218159e599",
   "metadata": {},
   "outputs": [
    {
     "data": {
      "text/plain": [
       "(91337188, 121496535)"
      ]
     },
     "execution_count": 15,
     "metadata": {},
     "output_type": "execute_result"
    }
   ],
   "source": [
    "model.train(review_text, total_examples = model.corpus_count, epochs = model.epochs)"
   ]
  },
  {
   "cell_type": "code",
   "execution_count": 17,
   "id": "5802878c-0d29-41bc-a271-1a2ad2672011",
   "metadata": {},
   "outputs": [
    {
     "data": {
      "text/plain": [
       "[('syrup', 0.574129581451416),\n",
       " ('lotion', 0.5577570199966431),\n",
       " ('proofs', 0.5517646670341492),\n",
       " ('leaching', 0.5507497787475586),\n",
       " ('toxins', 0.5274922847747803),\n",
       " ('hdpe', 0.5204238295555115),\n",
       " ('permethrin', 0.5178642868995667),\n",
       " ('ammonia', 0.5168960094451904),\n",
       " ('lexan', 0.5143150091171265),\n",
       " ('protectant', 0.5124892592430115)]"
      ]
     },
     "execution_count": 17,
     "metadata": {},
     "output_type": "execute_result"
    }
   ],
   "source": [
    "model.wv.most_similar('abhor')"
   ]
  },
  {
   "cell_type": "code",
   "execution_count": 19,
   "id": "d84e864e-3fa5-4e34-8968-d99a3ec8eb38",
   "metadata": {},
   "outputs": [
    {
     "data": {
      "text/plain": [
       "0.13047189"
      ]
     },
     "execution_count": 19,
     "metadata": {},
     "output_type": "execute_result"
    }
   ],
   "source": [
    "model.wv.similarity(w1 = 'happy', w2 = 'joy')"
   ]
  },
  {
   "cell_type": "code",
   "execution_count": 20,
   "id": "e830717b-241b-4e5d-94ed-c1e486f2e0c0",
   "metadata": {},
   "outputs": [
    {
     "data": {
      "text/plain": [
       "0.7906258"
      ]
     },
     "execution_count": 20,
     "metadata": {},
     "output_type": "execute_result"
    }
   ],
   "source": [
    "model.wv.similarity(w1 = 'good', w2 = 'great')"
   ]
  },
  {
   "cell_type": "code",
   "execution_count": 21,
   "id": "74bdbc39-69d7-4d8c-8014-cb90a8ef1315",
   "metadata": {},
   "outputs": [
    {
     "ename": "TypeError",
     "evalue": "'Word2Vec' object is not callable",
     "output_type": "error",
     "traceback": [
      "\u001b[1;31m---------------------------------------------------------------------------\u001b[0m",
      "\u001b[1;31mTypeError\u001b[0m                                 Traceback (most recent call last)",
      "Cell \u001b[1;32mIn[21], line 1\u001b[0m\n\u001b[1;32m----> 1\u001b[0m \u001b[43mmodel\u001b[49m\u001b[43m(\u001b[49m\u001b[38;5;124;43m'\u001b[39;49m\u001b[38;5;124;43mhappy\u001b[39;49m\u001b[38;5;124;43m'\u001b[39;49m\u001b[43m)\u001b[49m\n",
      "\u001b[1;31mTypeError\u001b[0m: 'Word2Vec' object is not callable"
     ]
    }
   ],
   "source": [
    "model('happy')"
   ]
  },
  {
   "cell_type": "markdown",
   "id": "7c1dd1f0-b4d7-4a57-8391-3e4c6288c564",
   "metadata": {},
   "source": [
    "# Real time project - word2vec with classification model building"
   ]
  },
  {
   "cell_type": "markdown",
   "id": "a6bbd20b-696b-4972-8f9d-b0474624c156",
   "metadata": {},
   "source": [
    "## email_data - spam filtering with word2vec"
   ]
  },
  {
   "cell_type": "code",
   "execution_count": 46,
   "id": "69a10dfd-0584-400c-9f71-1ddef12777e1",
   "metadata": {},
   "outputs": [],
   "source": [
    "import gensim\n",
    "import matplotlib.pyplot as plt\n",
    "import nltk\n",
    "import numpy as np\n",
    "import pandas as pd\n",
    "import re\n",
    "import seaborn as sns\n",
    "\n",
    "from collections import Counter\n",
    "from nltk.corpus import stopwords\n",
    "from nltk.stem import WordNetLemmatizer\n",
    "from sklearn.model_selection import train_test_split\n",
    "from tqdm import tqdm, tqdm_notebook\n",
    "\n",
    "%matplotlib inline\n",
    "sns.set()\n",
    "\n",
    "# import warnings\n",
    "# warning.filterwarings('ignore')"
   ]
  },
  {
   "cell_type": "code",
   "execution_count": 25,
   "id": "4a3fb278-3714-4003-b697-a669d75a2eee",
   "metadata": {},
   "outputs": [
    {
     "data": {
      "text/html": [
       "<div>\n",
       "<style scoped>\n",
       "    .dataframe tbody tr th:only-of-type {\n",
       "        vertical-align: middle;\n",
       "    }\n",
       "\n",
       "    .dataframe tbody tr th {\n",
       "        vertical-align: top;\n",
       "    }\n",
       "\n",
       "    .dataframe thead th {\n",
       "        text-align: right;\n",
       "    }\n",
       "</style>\n",
       "<table border=\"1\" class=\"dataframe\">\n",
       "  <thead>\n",
       "    <tr style=\"text-align: right;\">\n",
       "      <th></th>\n",
       "      <th>Unnamed: 0</th>\n",
       "      <th>label</th>\n",
       "      <th>text</th>\n",
       "      <th>label_num</th>\n",
       "    </tr>\n",
       "  </thead>\n",
       "  <tbody>\n",
       "    <tr>\n",
       "      <th>0</th>\n",
       "      <td>605</td>\n",
       "      <td>ham</td>\n",
       "      <td>Subject: enron methanol ; meter # : 988291\\nth...</td>\n",
       "      <td>0</td>\n",
       "    </tr>\n",
       "    <tr>\n",
       "      <th>1</th>\n",
       "      <td>2349</td>\n",
       "      <td>ham</td>\n",
       "      <td>Subject: hpl nom for january 9 , 2001\\n( see a...</td>\n",
       "      <td>0</td>\n",
       "    </tr>\n",
       "    <tr>\n",
       "      <th>2</th>\n",
       "      <td>3624</td>\n",
       "      <td>ham</td>\n",
       "      <td>Subject: neon retreat\\nho ho ho , we ' re arou...</td>\n",
       "      <td>0</td>\n",
       "    </tr>\n",
       "    <tr>\n",
       "      <th>3</th>\n",
       "      <td>4685</td>\n",
       "      <td>spam</td>\n",
       "      <td>Subject: photoshop , windows , office . cheap ...</td>\n",
       "      <td>1</td>\n",
       "    </tr>\n",
       "    <tr>\n",
       "      <th>4</th>\n",
       "      <td>2030</td>\n",
       "      <td>ham</td>\n",
       "      <td>Subject: re : indian springs\\nthis deal is to ...</td>\n",
       "      <td>0</td>\n",
       "    </tr>\n",
       "  </tbody>\n",
       "</table>\n",
       "</div>"
      ],
      "text/plain": [
       "   Unnamed: 0 label                                               text  \\\n",
       "0         605   ham  Subject: enron methanol ; meter # : 988291\\nth...   \n",
       "1        2349   ham  Subject: hpl nom for january 9 , 2001\\n( see a...   \n",
       "2        3624   ham  Subject: neon retreat\\nho ho ho , we ' re arou...   \n",
       "3        4685  spam  Subject: photoshop , windows , office . cheap ...   \n",
       "4        2030   ham  Subject: re : indian springs\\nthis deal is to ...   \n",
       "\n",
       "   label_num  \n",
       "0          0  \n",
       "1          0  \n",
       "2          0  \n",
       "3          1  \n",
       "4          0  "
      ]
     },
     "execution_count": 25,
     "metadata": {},
     "output_type": "execute_result"
    }
   ],
   "source": [
    "df = pd.read_csv('email_data.csv')\n",
    "df.head()"
   ]
  },
  {
   "cell_type": "code",
   "execution_count": 26,
   "id": "69a855fc-549f-4d32-88d8-eb4533d468df",
   "metadata": {},
   "outputs": [
    {
     "data": {
      "text/plain": [
       "(5171, 4)"
      ]
     },
     "execution_count": 26,
     "metadata": {},
     "output_type": "execute_result"
    }
   ],
   "source": [
    "df.shape"
   ]
  },
  {
   "cell_type": "code",
   "execution_count": 28,
   "id": "b082ae75-b435-499b-a3f3-d3c7f46f7203",
   "metadata": {},
   "outputs": [
    {
     "data": {
      "text/plain": [
       "label\n",
       "ham     0.710114\n",
       "spam    0.289886\n",
       "Name: proportion, dtype: float64"
      ]
     },
     "execution_count": 28,
     "metadata": {},
     "output_type": "execute_result"
    }
   ],
   "source": [
    "df['label'].value_counts(normalize = True)\n",
    "\n",
    "# Imbalance dataset"
   ]
  },
  {
   "cell_type": "markdown",
   "id": "81b759cb-ae64-414b-bdcf-b21d229d096f",
   "metadata": {},
   "source": [
    "## Visualising the distribution of most frequent words"
   ]
  },
  {
   "cell_type": "code",
   "execution_count": 31,
   "id": "0fc6dba6-b9bf-42da-8681-814852853b6c",
   "metadata": {},
   "outputs": [
    {
     "data": {
      "image/png": "[encoded data removed]",
      "text/plain": [
       "<Figure size 640x480 with 1 Axes>"
      ]
     },
     "metadata": {},
     "output_type": "display_data"
    }
   ],
   "source": [
    "all_words = \" \".join(df['text'].values).split()\n",
    "word_counts = Counter(all_words)\n",
    "common_words = word_counts.most_common(20)\n",
    "common_words_df = pd.DataFrame(common_words, columns = ['word', 'count'])\n",
    "sns.barplot(data = common_words_df, x = 'count', y = 'word')\n",
    "plt.title(\"Top 20 most frequent words\")\n",
    "plt.show()"
   ]
  },
  {
   "cell_type": "markdown",
   "id": "a864fe28-af25-4ebb-881b-abf1e1b6c7cb",
   "metadata": {},
   "source": [
    "- All of the above are either stop words or punctuations\n",
    "- These needs to be cleaned"
   ]
  },
  {
   "cell_type": "code",
   "execution_count": 32,
   "id": "a0f2b7ac-1961-4a73-96ac-c0faa7b2727d",
   "metadata": {},
   "outputs": [
    {
     "data": {
      "text/html": [
       "<div>\n",
       "<style scoped>\n",
       "    .dataframe tbody tr th:only-of-type {\n",
       "        vertical-align: middle;\n",
       "    }\n",
       "\n",
       "    .dataframe tbody tr th {\n",
       "        vertical-align: top;\n",
       "    }\n",
       "\n",
       "    .dataframe thead th {\n",
       "        text-align: right;\n",
       "    }\n",
       "</style>\n",
       "<table border=\"1\" class=\"dataframe\">\n",
       "  <thead>\n",
       "    <tr style=\"text-align: right;\">\n",
       "      <th></th>\n",
       "      <th>Unnamed: 0</th>\n",
       "      <th>label</th>\n",
       "      <th>text</th>\n",
       "      <th>label_num</th>\n",
       "    </tr>\n",
       "  </thead>\n",
       "  <tbody>\n",
       "    <tr>\n",
       "      <th>0</th>\n",
       "      <td>605</td>\n",
       "      <td>ham</td>\n",
       "      <td>Subject: enron methanol ; meter # : 988291\\nth...</td>\n",
       "      <td>0</td>\n",
       "    </tr>\n",
       "    <tr>\n",
       "      <th>1</th>\n",
       "      <td>2349</td>\n",
       "      <td>ham</td>\n",
       "      <td>Subject: hpl nom for january 9 , 2001\\n( see a...</td>\n",
       "      <td>0</td>\n",
       "    </tr>\n",
       "    <tr>\n",
       "      <th>2</th>\n",
       "      <td>3624</td>\n",
       "      <td>ham</td>\n",
       "      <td>Subject: neon retreat\\nho ho ho , we ' re arou...</td>\n",
       "      <td>0</td>\n",
       "    </tr>\n",
       "    <tr>\n",
       "      <th>3</th>\n",
       "      <td>4685</td>\n",
       "      <td>spam</td>\n",
       "      <td>Subject: photoshop , windows , office . cheap ...</td>\n",
       "      <td>1</td>\n",
       "    </tr>\n",
       "    <tr>\n",
       "      <th>4</th>\n",
       "      <td>2030</td>\n",
       "      <td>ham</td>\n",
       "      <td>Subject: re : indian springs\\nthis deal is to ...</td>\n",
       "      <td>0</td>\n",
       "    </tr>\n",
       "  </tbody>\n",
       "</table>\n",
       "</div>"
      ],
      "text/plain": [
       "   Unnamed: 0 label                                               text  \\\n",
       "0         605   ham  Subject: enron methanol ; meter # : 988291\\nth...   \n",
       "1        2349   ham  Subject: hpl nom for january 9 , 2001\\n( see a...   \n",
       "2        3624   ham  Subject: neon retreat\\nho ho ho , we ' re arou...   \n",
       "3        4685  spam  Subject: photoshop , windows , office . cheap ...   \n",
       "4        2030   ham  Subject: re : indian springs\\nthis deal is to ...   \n",
       "\n",
       "   label_num  \n",
       "0          0  \n",
       "1          0  \n",
       "2          0  \n",
       "3          1  \n",
       "4          0  "
      ]
     },
     "execution_count": 32,
     "metadata": {},
     "output_type": "execute_result"
    }
   ],
   "source": [
    "df.head()"
   ]
  },
  {
   "cell_type": "code",
   "execution_count": 34,
   "id": "89328ac0-595f-4f8a-bbb8-e2e6dff876e9",
   "metadata": {},
   "outputs": [
    {
     "data": {
      "text/html": [
       "<div>\n",
       "<style scoped>\n",
       "    .dataframe tbody tr th:only-of-type {\n",
       "        vertical-align: middle;\n",
       "    }\n",
       "\n",
       "    .dataframe tbody tr th {\n",
       "        vertical-align: top;\n",
       "    }\n",
       "\n",
       "    .dataframe thead th {\n",
       "        text-align: right;\n",
       "    }\n",
       "</style>\n",
       "<table border=\"1\" class=\"dataframe\">\n",
       "  <thead>\n",
       "    <tr style=\"text-align: right;\">\n",
       "      <th></th>\n",
       "      <th>text</th>\n",
       "    </tr>\n",
       "  </thead>\n",
       "  <tbody>\n",
       "    <tr>\n",
       "      <th>0</th>\n",
       "      <td>Subject: enron methanol ; meter # : 988291\\nth...</td>\n",
       "    </tr>\n",
       "    <tr>\n",
       "      <th>1</th>\n",
       "      <td>Subject: hpl nom for january 9 , 2001\\n( see a...</td>\n",
       "    </tr>\n",
       "    <tr>\n",
       "      <th>2</th>\n",
       "      <td>Subject: neon retreat\\nho ho ho , we ' re arou...</td>\n",
       "    </tr>\n",
       "    <tr>\n",
       "      <th>3</th>\n",
       "      <td>Subject: photoshop , windows , office . cheap ...</td>\n",
       "    </tr>\n",
       "    <tr>\n",
       "      <th>4</th>\n",
       "      <td>Subject: re : indian springs\\nthis deal is to ...</td>\n",
       "    </tr>\n",
       "  </tbody>\n",
       "</table>\n",
       "</div>"
      ],
      "text/plain": [
       "                                                text\n",
       "0  Subject: enron methanol ; meter # : 988291\\nth...\n",
       "1  Subject: hpl nom for january 9 , 2001\\n( see a...\n",
       "2  Subject: neon retreat\\nho ho ho , we ' re arou...\n",
       "3  Subject: photoshop , windows , office . cheap ...\n",
       "4  Subject: re : indian springs\\nthis deal is to ..."
      ]
     },
     "execution_count": 34,
     "metadata": {},
     "output_type": "execute_result"
    }
   ],
   "source": [
    "# Split dependent and independent\n",
    "\n",
    "x = df[['text']]\n",
    "y = df['label']\n",
    "\n",
    "x.head()"
   ]
  },
  {
   "cell_type": "code",
   "execution_count": 35,
   "id": "2839d105-ddc0-4fe0-9d91-865766785917",
   "metadata": {},
   "outputs": [
    {
     "data": {
      "text/plain": [
       "0    ham\n",
       "1    ham\n",
       "Name: label, dtype: object"
      ]
     },
     "execution_count": 35,
     "metadata": {},
     "output_type": "execute_result"
    }
   ],
   "source": [
    "y.head(2)"
   ]
  },
  {
   "cell_type": "code",
   "execution_count": 37,
   "id": "d0e0b7f7-b850-4add-8f2e-f5dcd8ce3406",
   "metadata": {},
   "outputs": [],
   "source": [
    "# Train test split\n",
    "\n",
    "x_train, x_test, y_train, y_test = train_test_split(x, y, test_size = 0.2, \n",
    "                                                    random_state = 0, stratify = y)"
   ]
  },
  {
   "cell_type": "code",
   "execution_count": 38,
   "id": "d6952f9f-a98e-4ab6-aef9-43da268fbfbd",
   "metadata": {},
   "outputs": [
    {
     "name": "stdout",
     "output_type": "stream",
     "text": [
      "(4136, 1) (1035, 1)\n",
      "(4136,) (1035,)\n"
     ]
    }
   ],
   "source": [
    "print(x_train.shape, x_test.shape)\n",
    "print(y_train.shape, y_test.shape)"
   ]
  },
  {
   "cell_type": "markdown",
   "id": "76ae2a01-2594-4554-917c-e5cc1f93d557",
   "metadata": {},
   "source": [
    "# Apply data preprocessing on training data\n",
    "## Text cleaning"
   ]
  },
  {
   "cell_type": "code",
   "execution_count": 58,
   "id": "b6c91c2a-a6ec-4bb0-801a-9f79935f11b1",
   "metadata": {},
   "outputs": [],
   "source": [
    "def clean(doc):\n",
    "    regex = \"[^a-zA-Z]\"\n",
    "    doc = re.sub(regex, \" \", doc)\n",
    "    doc = doc.lower()\n",
    "    tokens = nltk.word_tokenize(doc)\n",
    "    stop_words = list(set(stopwords.words('english')))\n",
    "    custom_stop_words = ['subject', 'hpl', 'ect', 'etc', 'hou', 'enron']\n",
    "    stop_words = stop_words + custom_stop_words\n",
    "    filtered_tokens = [word for word in tokens if word not in stop_words]\n",
    "    \n",
    "    lemmatizer = WordNetLemmatizer()\n",
    "    lemmatizer_tokens = [lemmatizer.lemmatize(token) for token in filtered_tokens]\n",
    "    return \" \".join(lemmatizer_tokens)"
   ]
  },
  {
   "cell_type": "code",
   "execution_count": 59,
   "id": "5ce4e0dd-5549-4839-800c-7f18a5bc3c94",
   "metadata": {},
   "outputs": [
    {
     "name": "stderr",
     "output_type": "stream",
     "text": [
      "[nltk_data] Downloading package punkt to\n",
      "[nltk_data]     C:\\Users\\younu\\AppData\\Roaming\\nltk_data...\n",
      "[nltk_data]   Package punkt is already up-to-date!\n",
      "[nltk_data] Downloading package stopwords to\n",
      "[nltk_data]     C:\\Users\\younu\\AppData\\Roaming\\nltk_data...\n",
      "[nltk_data]   Package stopwords is already up-to-date!\n",
      "[nltk_data] Downloading package wordnet to\n",
      "[nltk_data]     C:\\Users\\younu\\AppData\\Roaming\\nltk_data...\n",
      "[nltk_data]   Package wordnet is already up-to-date!\n"
     ]
    },
    {
     "data": {
      "text/plain": [
       "True"
      ]
     },
     "execution_count": 59,
     "metadata": {},
     "output_type": "execute_result"
    }
   ],
   "source": [
    "tqdm.pandas()\n",
    "nltk.download('punkt')\n",
    "nltk.download('stopwords')\n",
    "nltk.download('wordnet')"
   ]
  },
  {
   "cell_type": "code",
   "execution_count": 60,
   "id": "2d66aa55-b0b8-4864-855c-0791852fdf57",
   "metadata": {},
   "outputs": [
    {
     "name": "stderr",
     "output_type": "stream",
     "text": [
      "100%|██████████| 4136/4136 [00:07<00:00, 518.04it/s]\n"
     ]
    },
    {
     "data": {
      "text/html": [
       "<div>\n",
       "<style scoped>\n",
       "    .dataframe tbody tr th:only-of-type {\n",
       "        vertical-align: middle;\n",
       "    }\n",
       "\n",
       "    .dataframe tbody tr th {\n",
       "        vertical-align: top;\n",
       "    }\n",
       "\n",
       "    .dataframe thead th {\n",
       "        text-align: right;\n",
       "    }\n",
       "</style>\n",
       "<table border=\"1\" class=\"dataframe\">\n",
       "  <thead>\n",
       "    <tr style=\"text-align: right;\">\n",
       "      <th></th>\n",
       "      <th>text</th>\n",
       "      <th>clean_text</th>\n",
       "    </tr>\n",
       "  </thead>\n",
       "  <tbody>\n",
       "    <tr>\n",
       "      <th>2312</th>\n",
       "      <td>Subject: hpl nom for october 26 , 2000\\n( see ...</td>\n",
       "      <td>nom october see attached file hplnl xl hplnl xl</td>\n",
       "    </tr>\n",
       "    <tr>\n",
       "      <th>2505</th>\n",
       "      <td>Subject: january spot tickets\\ndaren ,\\nhplc i...</td>\n",
       "      <td>january spot ticket daren hplc purchasing gas ...</td>\n",
       "    </tr>\n",
       "    <tr>\n",
       "      <th>1335</th>\n",
       "      <td>Subject: meter 1603 - 10 / 1 - 10 / 2\\nfyi - m...</td>\n",
       "      <td>meter fyi meter total flow total nom deal al</td>\n",
       "    </tr>\n",
       "    <tr>\n",
       "      <th>2998</th>\n",
       "      <td>Subject: july noms\\ndaren ,\\nplease see the vo...</td>\n",
       "      <td>july noms daren please see volume action neede...</td>\n",
       "    </tr>\n",
       "    <tr>\n",
       "      <th>1313</th>\n",
       "      <td>Subject: our pro - forma invoice attached\\ndiv...</td>\n",
       "      <td>pro forma invoice attached divide cover gave t...</td>\n",
       "    </tr>\n",
       "  </tbody>\n",
       "</table>\n",
       "</div>"
      ],
      "text/plain": [
       "                                                   text  \\\n",
       "2312  Subject: hpl nom for october 26 , 2000\\n( see ...   \n",
       "2505  Subject: january spot tickets\\ndaren ,\\nhplc i...   \n",
       "1335  Subject: meter 1603 - 10 / 1 - 10 / 2\\nfyi - m...   \n",
       "2998  Subject: july noms\\ndaren ,\\nplease see the vo...   \n",
       "1313  Subject: our pro - forma invoice attached\\ndiv...   \n",
       "\n",
       "                                             clean_text  \n",
       "2312    nom october see attached file hplnl xl hplnl xl  \n",
       "2505  january spot ticket daren hplc purchasing gas ...  \n",
       "1335       meter fyi meter total flow total nom deal al  \n",
       "2998  july noms daren please see volume action neede...  \n",
       "1313  pro forma invoice attached divide cover gave t...  "
      ]
     },
     "execution_count": 60,
     "metadata": {},
     "output_type": "execute_result"
    }
   ],
   "source": [
    "x_train['clean_text'] = x_train['text'].progress_apply(lambda doc : clean(doc))\n",
    "x_train.head()"
   ]
  },
  {
   "cell_type": "markdown",
   "id": "945f21c4-e717-4346-a060-b91a2fb90c0f",
   "metadata": {},
   "source": [
    "# Distributed Language Model\n",
    "\n",
    "### Generating Word2Vec \n",
    "- Convert sentences to list of words (tokens)\n",
    "- Import word2vec library from gensim\n",
    "- Use word2vec to learn numeric vector for each unique words\n",
    "    - word2vec chooses the list of tokens and genrate 300-dim (50- 300 dense vector) numerical vector for each word\n",
    "- Convert the word vector to documents vectors"
   ]
  },
  {
   "cell_type": "code",
   "execution_count": 63,
   "id": "8e8e5ca5-62e9-4ae4-8392-7ae058402c72",
   "metadata": {},
   "outputs": [],
   "source": [
    "# Converting the sentence to list of words (list of tokens)\n",
    "\n",
    "x_train['tokenized_sentence'] = x_train['clean_text'].apply(lambda doc : doc.split())"
   ]
  },
  {
   "cell_type": "code",
   "execution_count": 64,
   "id": "68c0f30f-3b16-4eeb-8de6-63b7ff9b2dee",
   "metadata": {},
   "outputs": [
    {
     "data": {
      "text/html": [
       "<div>\n",
       "<style scoped>\n",
       "    .dataframe tbody tr th:only-of-type {\n",
       "        vertical-align: middle;\n",
       "    }\n",
       "\n",
       "    .dataframe tbody tr th {\n",
       "        vertical-align: top;\n",
       "    }\n",
       "\n",
       "    .dataframe thead th {\n",
       "        text-align: right;\n",
       "    }\n",
       "</style>\n",
       "<table border=\"1\" class=\"dataframe\">\n",
       "  <thead>\n",
       "    <tr style=\"text-align: right;\">\n",
       "      <th></th>\n",
       "      <th>text</th>\n",
       "      <th>clean_text</th>\n",
       "      <th>tokenized_sentence</th>\n",
       "    </tr>\n",
       "  </thead>\n",
       "  <tbody>\n",
       "    <tr>\n",
       "      <th>2312</th>\n",
       "      <td>Subject: hpl nom for october 26 , 2000\\n( see ...</td>\n",
       "      <td>nom october see attached file hplnl xl hplnl xl</td>\n",
       "      <td>[nom, october, see, attached, file, hplnl, xl,...</td>\n",
       "    </tr>\n",
       "    <tr>\n",
       "      <th>2505</th>\n",
       "      <td>Subject: january spot tickets\\ndaren ,\\nhplc i...</td>\n",
       "      <td>january spot ticket daren hplc purchasing gas ...</td>\n",
       "      <td>[january, spot, ticket, daren, hplc, purchasin...</td>\n",
       "    </tr>\n",
       "  </tbody>\n",
       "</table>\n",
       "</div>"
      ],
      "text/plain": [
       "                                                   text  \\\n",
       "2312  Subject: hpl nom for october 26 , 2000\\n( see ...   \n",
       "2505  Subject: january spot tickets\\ndaren ,\\nhplc i...   \n",
       "\n",
       "                                             clean_text  \\\n",
       "2312    nom october see attached file hplnl xl hplnl xl   \n",
       "2505  january spot ticket daren hplc purchasing gas ...   \n",
       "\n",
       "                                     tokenized_sentence  \n",
       "2312  [nom, october, see, attached, file, hplnl, xl,...  \n",
       "2505  [january, spot, ticket, daren, hplc, purchasin...  "
      ]
     },
     "execution_count": 64,
     "metadata": {},
     "output_type": "execute_result"
    }
   ],
   "source": [
    "x_train.head(2)"
   ]
  },
  {
   "cell_type": "code",
   "execution_count": 65,
   "id": "716c20a4-3f7a-4791-9006-bc8d25a63201",
   "metadata": {},
   "outputs": [
    {
     "name": "stdout",
     "output_type": "stream",
     "text": [
      "CPU times: total: 6.08 s\n",
      "Wall time: 3.8 s\n",
      "Word2Vec<vocab=38606, vector_size=300, alpha=0.025>\n"
     ]
    }
   ],
   "source": [
    "from gensim.models import Word2Vec\n",
    "\n",
    "%time word2vec_vect = Word2Vec(x_train['tokenized_sentence'], vector_size = 300, min_count = 1)\n",
    "print(word2vec_vect)"
   ]
  },
  {
   "cell_type": "code",
   "execution_count": 67,
   "id": "4f1aa063-d382-4d02-a836-3666bd96862c",
   "metadata": {},
   "outputs": [
    {
     "name": "stdout",
     "output_type": "stream",
     "text": [
      "4136\n",
      "38606\n",
      "300\n"
     ]
    }
   ],
   "source": [
    "print(word2vec_vect.corpus_count)\n",
    "print(len(word2vec_vect.wv.index_to_key))\n",
    "print(word2vec_vect.vector_size)"
   ]
  },
  {
   "cell_type": "code",
   "execution_count": 68,
   "id": "e746e2e6-df66-4078-be58-d956f8fc83c4",
   "metadata": {},
   "outputs": [],
   "source": [
    "def get_document_vector(doc, model):\n",
    "    tokens = [word for word in doc if word in model]\n",
    "    \n",
    "    if tokens:\n",
    "        doc_embedding = np.mean(model[tokens], axis = 0)\n",
    "\n",
    "    else:\n",
    "        doc_embedding = np.zeros(model.vector_size)\n",
    "\n",
    "    return doc_embedding"
   ]
  },
  {
   "cell_type": "code",
   "execution_count": 69,
   "id": "e7556998-a4ce-415c-bea3-68c48329e612",
   "metadata": {},
   "outputs": [
    {
     "data": {
      "text/html": [
       "<div>\n",
       "<style scoped>\n",
       "    .dataframe tbody tr th:only-of-type {\n",
       "        vertical-align: middle;\n",
       "    }\n",
       "\n",
       "    .dataframe tbody tr th {\n",
       "        vertical-align: top;\n",
       "    }\n",
       "\n",
       "    .dataframe thead th {\n",
       "        text-align: right;\n",
       "    }\n",
       "</style>\n",
       "<table border=\"1\" class=\"dataframe\">\n",
       "  <thead>\n",
       "    <tr style=\"text-align: right;\">\n",
       "      <th></th>\n",
       "      <th>text</th>\n",
       "      <th>clean_text</th>\n",
       "      <th>tokenized_sentence</th>\n",
       "      <th>w2v_doc_embeddings</th>\n",
       "    </tr>\n",
       "  </thead>\n",
       "  <tbody>\n",
       "    <tr>\n",
       "      <th>2312</th>\n",
       "      <td>Subject: hpl nom for october 26 , 2000\\n( see ...</td>\n",
       "      <td>nom october see attached file hplnl xl hplnl xl</td>\n",
       "      <td>[nom, october, see, attached, file, hplnl, xl,...</td>\n",
       "      <td>[-0.19415905, 0.92785275, -0.10668858, -0.1111...</td>\n",
       "    </tr>\n",
       "    <tr>\n",
       "      <th>2505</th>\n",
       "      <td>Subject: january spot tickets\\ndaren ,\\nhplc i...</td>\n",
       "      <td>january spot ticket daren hplc purchasing gas ...</td>\n",
       "      <td>[january, spot, ticket, daren, hplc, purchasin...</td>\n",
       "      <td>[0.018295972, 0.42236033, 0.48155972, 0.136866...</td>\n",
       "    </tr>\n",
       "    <tr>\n",
       "      <th>1335</th>\n",
       "      <td>Subject: meter 1603 - 10 / 1 - 10 / 2\\nfyi - m...</td>\n",
       "      <td>meter fyi meter total flow total nom deal al</td>\n",
       "      <td>[meter, fyi, meter, total, flow, total, nom, d...</td>\n",
       "      <td>[-0.09566992, 0.5930712, 0.24225909, -0.121339...</td>\n",
       "    </tr>\n",
       "    <tr>\n",
       "      <th>2998</th>\n",
       "      <td>Subject: july noms\\ndaren ,\\nplease see the vo...</td>\n",
       "      <td>july noms daren please see volume action neede...</td>\n",
       "      <td>[july, noms, daren, please, see, volume, actio...</td>\n",
       "      <td>[-0.036320064, 0.5580821, 0.37397793, 0.130175...</td>\n",
       "    </tr>\n",
       "    <tr>\n",
       "      <th>1313</th>\n",
       "      <td>Subject: our pro - forma invoice attached\\ndiv...</td>\n",
       "      <td>pro forma invoice attached divide cover gave t...</td>\n",
       "      <td>[pro, forma, invoice, attached, divide, cover,...</td>\n",
       "      <td>[0.01586063, 0.32710135, 0.21483086, 0.0273930...</td>\n",
       "    </tr>\n",
       "  </tbody>\n",
       "</table>\n",
       "</div>"
      ],
      "text/plain": [
       "                                                   text  \\\n",
       "2312  Subject: hpl nom for october 26 , 2000\\n( see ...   \n",
       "2505  Subject: january spot tickets\\ndaren ,\\nhplc i...   \n",
       "1335  Subject: meter 1603 - 10 / 1 - 10 / 2\\nfyi - m...   \n",
       "2998  Subject: july noms\\ndaren ,\\nplease see the vo...   \n",
       "1313  Subject: our pro - forma invoice attached\\ndiv...   \n",
       "\n",
       "                                             clean_text  \\\n",
       "2312    nom october see attached file hplnl xl hplnl xl   \n",
       "2505  january spot ticket daren hplc purchasing gas ...   \n",
       "1335       meter fyi meter total flow total nom deal al   \n",
       "2998  july noms daren please see volume action neede...   \n",
       "1313  pro forma invoice attached divide cover gave t...   \n",
       "\n",
       "                                     tokenized_sentence  \\\n",
       "2312  [nom, october, see, attached, file, hplnl, xl,...   \n",
       "2505  [january, spot, ticket, daren, hplc, purchasin...   \n",
       "1335  [meter, fyi, meter, total, flow, total, nom, d...   \n",
       "2998  [july, noms, daren, please, see, volume, actio...   \n",
       "1313  [pro, forma, invoice, attached, divide, cover,...   \n",
       "\n",
       "                                     w2v_doc_embeddings  \n",
       "2312  [-0.19415905, 0.92785275, -0.10668858, -0.1111...  \n",
       "2505  [0.018295972, 0.42236033, 0.48155972, 0.136866...  \n",
       "1335  [-0.09566992, 0.5930712, 0.24225909, -0.121339...  \n",
       "2998  [-0.036320064, 0.5580821, 0.37397793, 0.130175...  \n",
       "1313  [0.01586063, 0.32710135, 0.21483086, 0.0273930...  "
      ]
     },
     "execution_count": 69,
     "metadata": {},
     "output_type": "execute_result"
    }
   ],
   "source": [
    "x_train['w2v_doc_embeddings'] = x_train['tokenized_sentence'].apply(lambda doc : get_document_vector(doc, word2vec_vect.wv))\n",
    "x_train.head()"
   ]
  },
  {
   "cell_type": "markdown",
   "id": "27e4e552-559c-41fa-9e4b-a48710ed08af",
   "metadata": {},
   "source": [
    "# Building ML model (Logistic Regression and Random Forest)"
   ]
  },
  {
   "cell_type": "code",
   "execution_count": 82,
   "id": "9b55362d-3416-408c-92cd-9895cf8ca025",
   "metadata": {},
   "outputs": [],
   "source": [
    "from sklearn.ensemble import RandomForestClassifier\n",
    "from sklearn.linear_model import LogisticRegression\n",
    "from sklearn import metrics"
   ]
  },
  {
   "cell_type": "code",
   "execution_count": 71,
   "id": "07662e14-ee49-47ee-9729-59b1eb5cbc3e",
   "metadata": {},
   "outputs": [
    {
     "name": "stderr",
     "output_type": "stream",
     "text": [
      "100%|██████████| 1035/1035 [00:02<00:00, 512.61it/s]\n"
     ]
    }
   ],
   "source": [
    "x_test['clean_text'] = x_test['text'].progress_apply(lambda doc : clean(doc))"
   ]
  },
  {
   "cell_type": "code",
   "execution_count": 72,
   "id": "aa0317e6-4925-44b9-a7f6-5392437286c0",
   "metadata": {},
   "outputs": [],
   "source": [
    "x_test['tokenized_sentence'] = x_test['clean_text'].apply(lambda doc : doc.split())"
   ]
  },
  {
   "cell_type": "code",
   "execution_count": 74,
   "id": "6f728c08-17f9-4d9a-b043-f7200a707e1b",
   "metadata": {},
   "outputs": [
    {
     "name": "stdout",
     "output_type": "stream",
     "text": [
      "CPU times: total: 1.48 s\n",
      "Wall time: 1.01 s\n"
     ]
    }
   ],
   "source": [
    "%time word2vec_vect_test = Word2Vec(x_test['tokenized_sentence'], vector_size = 300, min_count = 1)"
   ]
  },
  {
   "cell_type": "code",
   "execution_count": 75,
   "id": "eb601269-b0e4-47a2-81d8-c8cc1f2eddea",
   "metadata": {},
   "outputs": [],
   "source": [
    "x_test['w2v_doc_embeddings'] = x_test['tokenized_sentence'].apply(lambda doc : get_document_vector(doc, word2vec_vect.wv))"
   ]
  },
  {
   "cell_type": "code",
   "execution_count": 84,
   "id": "4dac4987-3a14-4d55-b320-1a4d8149b180",
   "metadata": {},
   "outputs": [
    {
     "name": "stdout",
     "output_type": "stream",
     "text": [
      "CPU times: total: 62.5 ms\n",
      "Wall time: 159 ms\n",
      "\n",
      "Model's Accuracy (Logistic regression) : 0.9420289855072463\n"
     ]
    }
   ],
   "source": [
    "# Building the model\n",
    "\n",
    "classifier = LogisticRegression()\n",
    "%time classifier.fit(list(x_train['w2v_doc_embeddings']), y_train)\n",
    "\n",
    "# Predincting on unseen data\n",
    "y_test_pred = classifier.predict(list(x_test['w2v_doc_embeddings']))\n",
    "\n",
    "# Model evaluation\n",
    "print()\n",
    "print(f\"Model's Accuracy (Logistic regression) : {(metrics.accuracy_score(y_test, y_test_pred))}\")"
   ]
  },
  {
   "cell_type": "code",
   "execution_count": 85,
   "id": "b16e842f-38fa-4f9d-afd4-15d38c739884",
   "metadata": {},
   "outputs": [
    {
     "name": "stdout",
     "output_type": "stream",
     "text": [
      "CPU times: total: 8.84 s\n",
      "Wall time: 11.6 s\n",
      "\n",
      "Model's Accuracy (Random Forest) : 0.9449275362318841\n"
     ]
    }
   ],
   "source": [
    "# Building the model\n",
    "\n",
    "rfclassifier = RandomForestClassifier()\n",
    "%time rfclassifier.fit(list(x_train['w2v_doc_embeddings']), y_train)\n",
    "\n",
    "# Predincting on unseen data\n",
    "y_test_pred_rf = rfclassifier.predict(list(x_test['w2v_doc_embeddings']))\n",
    "\n",
    "# Model evaluation\n",
    "print()\n",
    "print(f\"Model's Accuracy (Random Forest) : {(metrics.accuracy_score(y_test, y_test_pred_rf))}\")"
   ]
  },
  {
   "cell_type": "code",
   "execution_count": null,
   "id": "e33459b2-562b-458e-9e8f-da413365dd0a",
   "metadata": {},
   "outputs": [],
   "source": []
  }
 ],
 "metadata": {
  "kernelspec": {
   "display_name": "Python 3 (ipykernel)",
   "language": "python",
   "name": "python3"
  },
  "language_info": {
   "codemirror_mode": {
    "name": "ipython",
    "version": 3
   },
   "file_extension": ".py",
   "mimetype": "text/x-python",
   "name": "python",
   "nbconvert_exporter": "python",
   "pygments_lexer": "ipython3",
   "version": "3.8.19"
  }
 },
 "nbformat": 4,
 "nbformat_minor": 5
}
